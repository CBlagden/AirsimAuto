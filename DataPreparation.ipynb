{
 "cells": [
  {
   "cell_type": "code",
   "execution_count": 16,
   "metadata": {},
   "outputs": [],
   "source": [
    "import matplotlib.pyplot as plt\n",
    "from collections import Counter\n",
    "import pandas as pd \n",
    "from os import listdir\n",
    "import numpy as np\n",
    "import h5py\n",
    "import cv2\n",
    "\n",
    "RAW_DATA_FOLDER = 'data/'\n"
   ]
  },
  {
   "cell_type": "code",
   "execution_count": 2,
   "metadata": {},
   "outputs": [],
   "source": [
    "steering_data = pd.Series()\n",
    "images = []\n",
    "\n",
    "resized_dims = (128, 128)\n",
    "\n",
    "for f in listdir(RAW_DATA_FOLDER):\n",
    "    subfolder = RAW_DATA_FOLDER + f + '/'\n",
    "    tsv_data = pd.read_csv(subfolder + 'airsim_rec.txt', sep='\\t')\n",
    "    steering_col = tsv_data['Steering']\n",
    "    steering_data = steering_data.append(steering_col)\n",
    "    \n",
    "    imgs_subfolder = subfolder + 'images/'\n",
    "    for img in listdir(imgs_subfolder):\n",
    "        img_file = imgs_subfolder + img\n",
    "        img = cv2.imread(img_file, cv2.COLORSPACE_RGBA)\n",
    "        img = cv2.cvtColor(img, cv2.COLOR_RGBA2BGR)\n",
    "        img = cv2.resize(img, resized_dims)\n",
    "        images.append(img)\n",
    "    \n",
    "\n",
    "labels = [i for i in steering_data]"
   ]
  },
  {
   "cell_type": "code",
   "execution_count": 7,
   "metadata": {
    "scrolled": true
   },
   "outputs": [
    {
     "data": {
      "text/plain": [
       "array([[<matplotlib.axes._subplots.AxesSubplot object at 0x00000286794D5F98>]],\n",
       "      dtype=object)"
      ]
     },
     "execution_count": 7,
     "metadata": {},
     "output_type": "execute_result"
    },
    {
     "data": {
      "image/png": "[encoded data removed]",
      "text/plain": [
       "<matplotlib.figure.Figure at 0x286794b0550>"
      ]
     },
     "metadata": {},
     "output_type": "display_data"
    }
   ],
   "source": [
    "df = pd.DataFrame(steering_data)\n",
    "df.hist(bins=3, grid=False)"
   ]
  },
  {
   "cell_type": "code",
   "execution_count": 31,
   "metadata": {},
   "outputs": [
    {
     "data": {
      "text/plain": [
       "array([<matplotlib.axes._subplots.AxesSubplot object at 0x00000286796FE128>],\n",
       "      dtype=object)"
      ]
     },
     "execution_count": 31,
     "metadata": {},
     "output_type": "execute_result"
    },
    {
     "data": {
      "image/png": "[encoded data removed]",
      "text/plain": [
       "<matplotlib.figure.Figure at 0x28679804b38>"
      ]
     },
     "metadata": {},
     "output_type": "display_data"
    }
   ],
   "source": [
    "c = Counter(steering_data)\n",
    "df = pd.DataFrame(data=list(c.values()), index=[str(i) for i in c.keys()])\n",
    "df.plot(kind='pie', subplots=True)"
   ]
  },
  {
   "cell_type": "code",
   "execution_count": 17,
   "metadata": {},
   "outputs": [],
   "source": [
    "\"\"\"\n",
    "    Split data into training and testing portions\n",
    "\"\"\"\n",
    "assert len(images) == len(labels)\n",
    "\n",
    "training_portion = 0.7\n",
    "\n",
    "end_index = int(len(images)*training_portion)\n",
    "\n",
    "labels_training = np.array(labels[:end_index])\n",
    "images_training = np.array(images[:end_index])\n",
    "\n",
    "labels_testing = np.array(labels[end_index:])\n",
    "images_testing = np.array(images[end_index:])\n"
   ]
  },
  {
   "cell_type": "code",
   "execution_count": 18,
   "metadata": {},
   "outputs": [],
   "source": [
    "\n",
    "with h5py.File('data.h5df') as f:\n",
    "    f.clear()\n",
    "    \n",
    "    labels_training_dset = f.create_dataset('label_training', shape=labels_training.shape,\n",
    "                                           dtype=labels_training.dtype)\n",
    "    images_training_dset = f.create_dataset('images_training', shape=images_training.shape,\n",
    "                                           dtype=images_training.dtype)\n",
    "    \n",
    "    labels_testing_dset = f.create_dataset('label_testing', shape=labels_testing.shape,\n",
    "                                          dtype=labels_testing.dtype)\n",
    "    images_testing_dset = f.create_dataset('images_testing', shape=images_testing.shape,\n",
    "                                          dtype=images_testing.dtype)\n",
    "    \n",
    "    labels_training_dset[:] = labels_training\n",
    "    images_training_dset[:] = images_training\n",
    "    \n",
    "    labels_testing_dset[:] = labels_testing\n",
    "    images_testing_dset[:] = images_testing\n",
    "    \n",
    "    "
   ]
  }
 ],
 "metadata": {
  "kernelspec": {
   "display_name": "Python 3",
   "language": "python",
   "name": "python3"
  },
  "language_info": {
   "codemirror_mode": {
    "name": "ipython",
    "version": 3
   },
   "file_extension": ".py",
   "mimetype": "text/x-python",
   "name": "python",
   "nbconvert_exporter": "python",
   "pygments_lexer": "ipython3",
   "version": "3.6.4"
  }
 },
 "nbformat": 4,
 "nbformat_minor": 2
}
