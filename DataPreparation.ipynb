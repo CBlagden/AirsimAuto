{
 "cells": [
  {
   "cell_type": "code",
   "execution_count": 90,
   "metadata": {},
   "outputs": [],
   "source": [
    "import matplotlib.pyplot as plt\n",
    "import pandas as pd \n",
    "from os import listdir\n",
    "import numpy as np\n",
    "import h5py\n",
    "import cv2\n",
    "\n",
    "RAW_DATA_FOLDER = 'data/'\n",
    "\n",
    "IMAGES_FOLDER = RAW_DATA_FOLDER + 'images/'\n",
    "TSV_FILE = RAW_DATA_FOLDER + 'airsim_rec.txt'"
   ]
  },
  {
   "cell_type": "code",
   "execution_count": 91,
   "metadata": {},
   "outputs": [],
   "source": [
    "tsv_data = pd.read_csv(TSV_FILE, sep='\\t')\n",
    "steering_data = tsv_data['Steering']\n",
    "\n",
    "labels = []\n",
    "for i in steering_data:\n",
    "    if i == -0.5:\n",
    "        labels.append([1, 0, 0])\n",
    "    elif i == 0.5:\n",
    "        labels.append([0, 0, 1])\n",
    "    else:\n",
    "        labels.append([0, 0, 0])"
   ]
  },
  {
   "cell_type": "code",
   "execution_count": 92,
   "metadata": {},
   "outputs": [],
   "source": [
    "images = [np.array(cv2.imread(IMAGES_FOLDER + f, 0)) for f in listdir(IMAGES_FOLDER)]"
   ]
  },
  {
   "cell_type": "code",
   "execution_count": 93,
   "metadata": {},
   "outputs": [],
   "source": [
    "\"\"\"\n",
    "    Split data into training and testing portions\n",
    "\"\"\"\n",
    "assert len(images) == len(labels)\n",
    "\n",
    "training_portion = 0.7\n",
    "\n",
    "end_index = int(len(images)*training_portion)\n",
    "\n",
    "labels_training = np.array(labels[:end_index])\n",
    "images_training = np.array(images[:end_index])\n",
    "\n",
    "labels_testing = np.array(labels[end_index:])\n",
    "images_testing = np.array(images[end_index:])\n"
   ]
  },
  {
   "cell_type": "code",
   "execution_count": 94,
   "metadata": {},
   "outputs": [],
   "source": [
    "\n",
    "with h5py.File('data.h5df') as f:\n",
    "    f.clear()\n",
    "    \n",
    "    labels_training_dset = f.create_dataset('label_training', shape=labels_training.shape,\n",
    "                                           dtype=labels_training.dtype)\n",
    "    images_training_dset = f.create_dataset('images_training', shape=images_training.shape,\n",
    "                                           dtype=images_training.dtype)\n",
    "    \n",
    "    labels_testing_dset = f.create_dataset('label_testing', shape=labels_testing.shape,\n",
    "                                          dtype=labels_testing.dtype)\n",
    "    images_testing_dset = f.create_dataset('images_testing', shape=images_testing.shape,\n",
    "                                          dtype=images_testing.dtype)\n",
    "    \n",
    "    labels_training_dset[:] = labels_training\n",
    "    images_training_dset[:] = images_training\n",
    "    \n",
    "    labels_testing_dset[:] = labels_testing\n",
    "    images_testing_dset[:] = images_testing\n",
    "    \n",
    "    "
   ]
  },
  {
   "cell_type": "code",
   "execution_count": null,
   "metadata": {},
   "outputs": [],
   "source": []
  }
 ],
 "metadata": {
  "kernelspec": {
   "display_name": "Python 3",
   "language": "python",
   "name": "python3"
  },
  "language_info": {
   "codemirror_mode": {
    "name": "ipython",
    "version": 3
   },
   "file_extension": ".py",
   "mimetype": "text/x-python",
   "name": "python",
   "nbconvert_exporter": "python",
   "pygments_lexer": "ipython3",
   "version": "3.6.4"
  }
 },
 "nbformat": 4,
 "nbformat_minor": 2
}
