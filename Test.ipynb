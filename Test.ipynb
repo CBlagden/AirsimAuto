{
 "cells": [
  {
   "cell_type": "code",
   "execution_count": 35,
   "metadata": {},
   "outputs": [],
   "source": [
    "from keras.models import load_model\n",
    "from utils import CircularStack\n",
    "import airsim\n",
    "import cv2\n",
    "import numpy as np\n",
    "import time"
   ]
  },
  {
   "cell_type": "code",
   "execution_count": 36,
   "metadata": {},
   "outputs": [],
   "source": [
    "model = load_model('model.h5df')"
   ]
  },
  {
   "cell_type": "code",
   "execution_count": 42,
   "metadata": {
    "scrolled": true
   },
   "outputs": [
    {
     "name": "stdout",
     "output_type": "stream",
     "text": [
      "Connected!\n",
      "Client Ver:1 (Min Req: 1), Server Ver:1 (Min Req: 1)\n",
      "\n"
     ]
    }
   ],
   "source": [
    "client = airsim.CarClient()\n",
    "client.confirmConnection()\n"
   ]
  },
  {
   "cell_type": "code",
   "execution_count": 43,
   "metadata": {
    "scrolled": false
   },
   "outputs": [],
   "source": [
    "num_images_input = 4\n",
    "cstack = CircularStack(num_images_input)\n",
    "car_controls = airsim.CarControls()\n",
    "client.enableApiControl(True)\n",
    "\n",
    "i = 0\n",
    "delta_time = 0.1\n",
    "while i < 300:\n",
    "    \n",
    "    response = client.simGetImages(\n",
    "        [airsim.ImageRequest(0, airsim.ImageType.Scene, False, False)])[0]\n",
    "    img = np.frombuffer(response.image_data_uint8, dtype=np.uint8)\n",
    "    img = img.reshape(response.height, response.width, 4)[..., :3]\n",
    "    img = cv2.resize(img, (128, 128))\n",
    "    \n",
    "    cstack.update(img)\n",
    "    \n",
    "    if cstack.is_full():\n",
    "        imgs_stack = np.concatenate([img for img in cstack], axis=2)[np.newaxis, ...]\n",
    "        steering_angle = model.predict(imgs_stack)\n",
    "        car_controls.throttle = 0.2\n",
    "        car_controls.steering = float(steering_angle[0][0])\n",
    "\n",
    "        client.setCarControls(car_controls)\n",
    "    \n",
    "    time.sleep(delta_time)\n",
    "    i += 1\n",
    "    \n",
    "client.enableApiControl(False)"
   ]
  },
  {
   "cell_type": "code",
   "execution_count": null,
   "metadata": {},
   "outputs": [],
   "source": []
  }
 ],
 "metadata": {
  "kernelspec": {
   "display_name": "Python 3",
   "language": "python",
   "name": "python3"
  },
  "language_info": {
   "codemirror_mode": {
    "name": "ipython",
    "version": 3
   },
   "file_extension": ".py",
   "mimetype": "text/x-python",
   "name": "python",
   "nbconvert_exporter": "python",
   "pygments_lexer": "ipython3",
   "version": "3.6.4"
  }
 },
 "nbformat": 4,
 "nbformat_minor": 2
}
