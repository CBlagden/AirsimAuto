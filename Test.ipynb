{
 "cells": [
  {
   "cell_type": "code",
   "execution_count": 20,
   "metadata": {},
   "outputs": [],
   "source": [
    "from keras.models import load_model\n",
    "import airsim\n",
    "import cv2\n",
    "import numpy as np\n",
    "import time"
   ]
  },
  {
   "cell_type": "code",
   "execution_count": 21,
   "metadata": {},
   "outputs": [],
   "source": [
    "model = load_model('model.h5df')"
   ]
  },
  {
   "cell_type": "code",
   "execution_count": 22,
   "metadata": {},
   "outputs": [
    {
     "name": "stdout",
     "output_type": "stream",
     "text": [
      "Connected!\n",
      "Client Ver:1 (Min Req: 1), Server Ver:1 (Min Req: 1)\n",
      "\n"
     ]
    }
   ],
   "source": [
    "client = airsim.CarClient()\n",
    "client.confirmConnection()\n",
    "client.enableApiControl(True)\n"
   ]
  },
  {
   "cell_type": "code",
   "execution_count": 23,
   "metadata": {},
   "outputs": [],
   "source": [
    "def predictionToSteeringAngle(prediction):\n",
    "    index = np.argmax(prediction)\n",
    "    if index == 0:\n",
    "        return -0.5\n",
    "    elif index == 2:\n",
    "        return 0.5\n",
    "    else:\n",
    "        return 0.0"
   ]
  },
  {
   "cell_type": "code",
   "execution_count": 24,
   "metadata": {
    "scrolled": false
   },
   "outputs": [
    {
     "name": "stdout",
     "output_type": "stream",
     "text": [
      "Sending steering 0.5\n",
      "Sending steering 0.5\n",
      "Sending steering 0.5\n",
      "Sending steering 0.5\n",
      "Sending steering 0.5\n",
      "Sending steering 0.5\n",
      "Sending steering 0.5\n",
      "Sending steering 0.5\n",
      "Sending steering 0.5\n",
      "Sending steering 0.5\n",
      "Sending steering 0.5\n",
      "Sending steering 0.5\n",
      "Sending steering 0.5\n",
      "Sending steering 0.5\n",
      "Sending steering 0.5\n",
      "Sending steering 0.5\n",
      "Sending steering 0.5\n",
      "Sending steering 0.5\n",
      "Sending steering 0.5\n",
      "Sending steering 0.5\n",
      "Sending steering 0.5\n",
      "Sending steering 0.5\n",
      "Sending steering 0.5\n",
      "Sending steering 0.5\n",
      "Sending steering 0.5\n",
      "Sending steering 0.5\n",
      "Sending steering 0.5\n",
      "Sending steering 0.5\n",
      "Sending steering 0.5\n",
      "Sending steering 0.5\n",
      "Sending steering 0.5\n",
      "Sending steering 0.5\n",
      "Sending steering 0.5\n",
      "Sending steering 0.5\n",
      "Sending steering 0.5\n",
      "Sending steering 0.5\n",
      "Sending steering 0.5\n",
      "Sending steering 0.5\n",
      "Sending steering 0.5\n",
      "Sending steering 0.5\n",
      "Sending steering 0.5\n",
      "Sending steering 0.5\n",
      "Sending steering 0.5\n",
      "Sending steering 0.5\n",
      "Sending steering 0.5\n",
      "Sending steering 0.5\n",
      "Sending steering 0.5\n",
      "Sending steering 0.5\n",
      "Sending steering 0.5\n",
      "Sending steering 0.5\n",
      "Sending steering 0.5\n",
      "Sending steering 0.5\n",
      "Sending steering 0.5\n",
      "Sending steering 0.5\n",
      "Sending steering 0.5\n",
      "Sending steering 0.5\n",
      "Sending steering 0.5\n",
      "Sending steering 0.5\n",
      "Sending steering 0.5\n",
      "Sending steering 0.5\n",
      "Sending steering 0.5\n",
      "Sending steering 0.5\n",
      "Sending steering 0.5\n",
      "Sending steering 0.5\n",
      "Sending steering 0.5\n",
      "Sending steering 0.5\n",
      "Sending steering 0.5\n",
      "Sending steering 0.5\n",
      "Sending steering 0.5\n",
      "Sending steering 0.5\n",
      "Sending steering 0.5\n",
      "Sending steering 0.5\n",
      "Sending steering 0.5\n",
      "Sending steering 0.5\n",
      "Sending steering 0.5\n",
      "Sending steering 0.5\n",
      "Sending steering 0.5\n",
      "Sending steering 0.5\n",
      "Sending steering 0.5\n",
      "Sending steering 0.5\n",
      "Sending steering 0.5\n",
      "Sending steering 0.5\n",
      "Sending steering 0.5\n",
      "Sending steering 0.5\n"
     ]
    },
    {
     "ename": "KeyboardInterrupt",
     "evalue": "",
     "output_type": "error",
     "traceback": [
      "\u001b[1;31m---------------------------------------------------------------------------\u001b[0m",
      "\u001b[1;31mKeyboardInterrupt\u001b[0m                         Traceback (most recent call last)",
      "\u001b[1;32m<ipython-input-24-e41bde76465f>\u001b[0m in \u001b[0;36m<module>\u001b[1;34m()\u001b[0m\n\u001b[0;32m     20\u001b[0m \u001b[1;33m\u001b[0m\u001b[0m\n\u001b[0;32m     21\u001b[0m     \u001b[0mprint\u001b[0m\u001b[1;33m(\u001b[0m\u001b[1;34m\"Sending steering {s}\"\u001b[0m\u001b[1;33m.\u001b[0m\u001b[0mformat\u001b[0m\u001b[1;33m(\u001b[0m\u001b[0ms\u001b[0m\u001b[1;33m=\u001b[0m\u001b[0msteering_angle\u001b[0m\u001b[1;33m)\u001b[0m\u001b[1;33m)\u001b[0m\u001b[1;33m\u001b[0m\u001b[0m\n\u001b[1;32m---> 22\u001b[1;33m     \u001b[0mtime\u001b[0m\u001b[1;33m.\u001b[0m\u001b[0msleep\u001b[0m\u001b[1;33m(\u001b[0m\u001b[1;36m0.1\u001b[0m\u001b[1;33m)\u001b[0m\u001b[1;33m\u001b[0m\u001b[0m\n\u001b[0m\u001b[0;32m     23\u001b[0m \u001b[1;33m\u001b[0m\u001b[0m\n\u001b[0;32m     24\u001b[0m \u001b[0mclient\u001b[0m\u001b[1;33m.\u001b[0m\u001b[0menableApiControl\u001b[0m\u001b[1;33m(\u001b[0m\u001b[1;32mFalse\u001b[0m\u001b[1;33m)\u001b[0m\u001b[1;33m\u001b[0m\u001b[0m\n",
      "\u001b[1;31mKeyboardInterrupt\u001b[0m: "
     ]
    }
   ],
   "source": [
    "car_controls = airsim.CarControls()\n",
    "client.enableApiControl(True)\n",
    "while True:\n",
    "    \n",
    "    response = client.simGetImages([airsim.ImageRequest(0, airsim.ImageType.Scene, False, False)])[0]\n",
    "    img = np.frombuffer(response.image_data_uint8, dtype=np.uint8)\n",
    "    img = img.reshape(response.height, response.width, 4)\n",
    "    img = cv2.cvtColor(img, cv2.COLOR_RGB2GRAY)\n",
    "    img = cv2.resize(img, (128, 128))\n",
    "    img = np.array(img[None, ..., np.newaxis])\n",
    "    \n",
    "    \n",
    "    prediction = model.predict(img)\n",
    "    steering_angle = predictionToSteeringAngle(prediction)\n",
    "\n",
    "    car_controls.throttle = 0.4\n",
    "    car_controls.steering = steering_angle\n",
    "    \n",
    "    client.setCarControls(car_controls)\n",
    "    \n",
    "    print(\"Sending steering {s}\".format(s=steering_angle))\n",
    "    time.sleep(0.1)\n",
    "    \n",
    "client.enableApiControl(False)"
   ]
  }
 ],
 "metadata": {
  "kernelspec": {
   "display_name": "Python 3",
   "language": "python",
   "name": "python3"
  },
  "language_info": {
   "codemirror_mode": {
    "name": "ipython",
    "version": 3
   },
   "file_extension": ".py",
   "mimetype": "text/x-python",
   "name": "python",
   "nbconvert_exporter": "python",
   "pygments_lexer": "ipython3",
   "version": "3.6.4"
  }
 },
 "nbformat": 4,
 "nbformat_minor": 2
}
