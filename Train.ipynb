{
 "cells": [
  {
   "cell_type": "code",
   "execution_count": 1,
   "metadata": {},
   "outputs": [
    {
     "name": "stderr",
     "output_type": "stream",
     "text": [
      "C:\\Users\\CBlagden\\Anaconda3\\lib\\site-packages\\h5py\\__init__.py:36: FutureWarning: Conversion of the second argument of issubdtype from `float` to `np.floating` is deprecated. In future, it will be treated as `np.float64 == np.dtype(float).type`.\n",
      "  from ._conv import register_converters as _register_converters\n",
      "Using TensorFlow backend.\n"
     ]
    }
   ],
   "source": [
    "from keras.models import *\n",
    "from keras.layers import *\n",
    "from keras.optimizers import Nadam\n",
    "import h5py\n",
    "import numpy as np\n",
    "from generator import DriveDataGenerator\n",
    "\n",
    "DATA_FILE = 'data.h5df'"
   ]
  },
  {
   "cell_type": "code",
   "execution_count": 2,
   "metadata": {},
   "outputs": [],
   "source": [
    "with h5py.File(DATA_FILE, 'r') as f:\n",
    "    \n",
    "    images_training = list(f['images_training'])\n",
    "    labels_training = np.array(f['label_training'])\n",
    "    \n",
    "    images_testing = list(f['images_testing'])\n",
    "    labels_testing = np.array(f['label_testing'])"
   ]
  },
  {
   "cell_type": "code",
   "execution_count": 4,
   "metadata": {},
   "outputs": [],
   "source": [
    "activation = 'relu'\n",
    "\n",
    "# How many images in past at time to process\n",
    "num_images_input = 4\n",
    "\n",
    "# Multiply num_images_input by 3 since they're BGR\n",
    "pic_input = Input(shape=(128, 128, num_images_input*3))\n",
    "\n",
    "img_stack = Conv2D(32, (3, 3), name='convolution0', padding='same', activation=activation)(pic_input)\n",
    "img_stack = MaxPooling2D(pool_size=(2,2))(img_stack)\n",
    "img_stack = Conv2D(32, (3, 3), name='convolution1', padding='same', activation=activation)(img_stack)\n",
    "img_stack = MaxPooling2D(pool_size=(2,2))(img_stack)\n",
    "img_stack = Conv2D(16, (3, 3), name='convolution2', padding='same', activation=activation)(img_stack)\n",
    "img_stack = Flatten()(img_stack)\n",
    "img_stack = Dropout(0.2)(img_stack)\n",
    "\n",
    "dense_stack = Dense(64, activation=activation, name='dense0')(img_stack)\n",
    "dense_stack = Dropout(0.2)(dense_stack)\n",
    "dense_stack = Dense(10, activation=activation, name='dense2')(dense_stack)\n",
    "dense_stack = Dropout(0.2)(dense_stack)\n",
    "dense_stack = Dense(1, name='output', activation='sigmoid')(dense_stack)\n",
    "\n",
    "adam = Nadam(lr=0.0001, beta_1=0.9, beta_2=0.999, epsilon=1e-08)\n",
    "model = Model(inputs=[pic_input], outputs=dense_stack)\n",
    "model.compile(optimizer=adam, loss='mse')"
   ]
  },
  {
   "cell_type": "code",
   "execution_count": null,
   "metadata": {
    "scrolled": true
   },
   "outputs": [],
   "source": [
    "model.summary()"
   ]
  },
  {
   "cell_type": "code",
   "execution_count": null,
   "metadata": {
    "scrolled": true
   },
   "outputs": [
    {
     "name": "stdout",
     "output_type": "stream",
     "text": [
      "Epoch 1/300\n"
     ]
    }
   ],
   "source": [
    "training_generator = DriveDataGenerator(images_training, labels_training)\n",
    "validation_generator = DriveDataGenerator(images_testing, labels_testing)\n",
    "\n",
    "model.fit_generator(generator=training_generator, validation_data=validation_generator,\n",
    "                    verbose=1, epochs=300)"
   ]
  },
  {
   "cell_type": "code",
   "execution_count": 6,
   "metadata": {
    "scrolled": true
   },
   "outputs": [],
   "source": [
    "save_model(model, 'model.h5df')"
   ]
  }
 ],
 "metadata": {
  "kernelspec": {
   "display_name": "Python 3",
   "language": "python",
   "name": "python3"
  },
  "language_info": {
   "codemirror_mode": {
    "name": "ipython",
    "version": 3
   },
   "file_extension": ".py",
   "mimetype": "text/x-python",
   "name": "python",
   "nbconvert_exporter": "python",
   "pygments_lexer": "ipython3",
   "version": "3.6.4"
  }
 },
 "nbformat": 4,
 "nbformat_minor": 2
}
